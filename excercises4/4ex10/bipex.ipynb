{
 "cells": [
  {
   "cell_type": "markdown",
   "metadata": {},
   "source": [
    "Given: A positive integer k≤20\n",
    " and k\n",
    " simple graphs in the edge list format with at most 103\n",
    " vertices each.\n",
    "\n",
    "Return: For each graph, output \"1\" if it is bipartite and \"-1\" otherwise"
   ]
  },
  {
   "cell_type": "code",
   "execution_count": 5,
   "metadata": {},
   "outputs": [
    {
     "name": "stdout",
     "output_type": "stream",
     "text": [
      "1 1 -1 1 1 -1 1 -1 1 -1 -1 1 -1 1 -1 -1 -1 1 -1 "
     ]
    }
   ],
   "source": [
    "graphs = []\n",
    "with open(\"rosalind_bip.txt\", \"r\") as f:\n",
    "    graph_count = int(f.readline().strip())\n",
    "    for _ in range(graph_count):\n",
    "        line = f.readline().strip()\n",
    "        while not line: \n",
    "            line = f.readline().strip()\n",
    "        vertices, edges = map(int, line.split())\n",
    "        graph = {i + 1: [] for i in range(vertices)} \n",
    "        for _ in range(edges):\n",
    "            line = f.readline().strip()\n",
    "            while not line:\n",
    "                line = f.readline().strip()\n",
    "            u, v = map(int, line.split())\n",
    "            graph[u].append(v)  \n",
    "            graph[v].append(u)  \n",
    "        graphs.append((graph, vertices))\n",
    "\n",
    "def is_bipartite(graph, vertices):\n",
    "    color = {}\n",
    "    for start in range(1, vertices + 1):\n",
    "        if start not in color:  \n",
    "            queue = [start]  \n",
    "            color[start] = 0  \n",
    "            while queue:\n",
    "                node = queue.pop(0) \n",
    "                for neighbor in graph[node]:\n",
    "                    if neighbor not in color:  \n",
    "                        color[neighbor] = 1 - color[node]\n",
    "                        queue.append(neighbor) \n",
    "                    elif color[neighbor] == color[node]: \n",
    "                        return -1  \n",
    "    return 1 \n",
    "\n",
    "for graph, vertices in graphs:\n",
    "    print(is_bipartite(graph, vertices), end=\" \")\n"
   ]
  }
 ],
 "metadata": {
  "kernelspec": {
   "display_name": "base",
   "language": "python",
   "name": "python3"
  },
  "language_info": {
   "codemirror_mode": {
    "name": "ipython",
    "version": 3
   },
   "file_extension": ".py",
   "mimetype": "text/x-python",
   "name": "python",
   "nbconvert_exporter": "python",
   "pygments_lexer": "ipython3",
   "version": "3.11.5"
  }
 },
 "nbformat": 4,
 "nbformat_minor": 2
}
