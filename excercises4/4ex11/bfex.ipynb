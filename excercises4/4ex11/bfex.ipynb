{
 "cells": [
  {
   "cell_type": "markdown",
   "metadata": {},
   "source": [
    "Given: A simple directed graph with integer edge weights from −103\n",
    " to 103\n",
    " and n≤103\n",
    " vertices in the edge list format.\n",
    "\n",
    "Return: An array D[1..n]\n",
    " where D[i]\n",
    " is the length of a shortest path from the vertex 1\n",
    " to the vertex i\n",
    " (D[1]=0\n",
    "). If i\n",
    " is not reachable from 1\n",
    " set D[i]\n",
    " to x."
   ]
  },
  {
   "cell_type": "code",
   "execution_count": 1,
   "metadata": {},
   "outputs": [
    {
     "name": "stdout",
     "output_type": "stream",
     "text": [
      "0 x x x x x x x x x x x x x x x x x x x x x x x x x x x x x x x x x x x x x x x x x x x x x x x x x x x x x x x x x x x x x x x x x x x x x x x x x x x x x x x x x x x x x x x x x x x x x x x x x x x x x x x x x x x x x x x x x x x x x x x x x x x x x x x x x x x x x x x x x x x x x x x x x x x x x x x x x x x x x x x x x x x x x x x x x x x x x x x x x x x x x x x x x x x x x x x x x x x x x x x x x x x x x x x x x x x x x x x x x x x x x x x x x x x x x x x x x x x x x x x x x x x x x x x x x x x x x x x x x x x x x x x x x x x x x x x x x x x x x x x x x x x x x x x x x x x x x x x x x x x x x x x x x x x x x x x x x x x x x x x x x x x x x x x x x x x x x x x x x x x x x x x x x x x x x x x x x x x x x x x x x x x x x x x x x x x x x x x x x x x x x x x x x x x x x x x x x x x x x x x x x x x x x x x x x x x x x x x x x x x x x x x x x x x x x x x x x x x x x x x x x x x x x x x x x x x x x x x x x x x x x x x x x x x x x x x x x x x x x x x x x x x x x x x x x x x x x x x x x x x x x x x x x x x x x x x x x x x x x x x x x x x x x x x x x x x x x x x x x x x x x x x x x x x x x x x x x x x x x x x x x x x x x x x x x x x x x x x x x x x x x x x x x x x x x x x x x x x x x x x x x x x x x x x x x x x x x x x x x x x x x x x x x x x x x x x x x x x x x x x x x x x x x x x x x x x x x x x x x x x x x x x x x x x x x x x x x x x x x x x x x x x x x x x x x x x x x x x x x x x x x x x x x x x x x x x x x x x x x x x x x x x x x x x x x x x x x x x x x x x x x x x x x x x x x x x x x x x x x x x x x x x x x x x x x x x x x x x x x x x x x x x x x x x x x x x x x x x x x x x x x x x x x x x x x x x x x x x x x x x x x x x x x x x x x x x x x x x x x x x x x x \n"
     ]
    }
   ],
   "source": [
    "inf = float('inf')\n",
    "with open(\"rosalind_bf.txt\", \"r\") as f:\n",
    "    vertice, edge = map(int, f.readline().strip().split(\" \"))\n",
    "    graph = {v: {} for v in range(1, vertice + 1)}\n",
    "    for line in f:\n",
    "        vertice1, vertice2, weight = map(int, line.strip().split(\" \"))\n",
    "        graph[vertice1][vertice2] = weight\n",
    "\n",
    "def BellmanFord(graph, vertice, source):\n",
    "    distance = {i: inf for i in graph} \n",
    "    predecessor = {i: None for i in graph}\n",
    "    distance[source] = 0 \n",
    "\n",
    "    for i in range(vertice - 1):\n",
    "        for u in graph:\n",
    "            if distance[u] != inf:\n",
    "                for v in graph[u]:\n",
    "                    if distance[v] > distance[u] + graph[u][v]:\n",
    "                        distance[v] = distance[u] + graph[u][v]\n",
    "                        predecessor[v] = u\n",
    "    \n",
    "    for u in graph:\n",
    "        if distance[u] != inf:\n",
    "            for v in graph[u]:\n",
    "                if distance[v] > distance[u] + graph[u][v]:\n",
    "                    print(\"Graph contains negative cycles\")\n",
    "                    return None  # or handle it as needed\n",
    "\n",
    "    return distance, predecessor\n",
    "\n",
    "distance, predecessor = BellmanFord(graph, vertice, 1)\n",
    "for i in graph:\n",
    "    if distance[i] == inf:\n",
    "        print(\"x\", end=\" \")\n",
    "    else:\n",
    "        print(distance[i], end=\" \")\n",
    "print()"
   ]
  }
 ],
 "metadata": {
  "kernelspec": {
   "display_name": "base",
   "language": "python",
   "name": "python3"
  },
  "language_info": {
   "codemirror_mode": {
    "name": "ipython",
    "version": 3
   },
   "file_extension": ".py",
   "mimetype": "text/x-python",
   "name": "python",
   "nbconvert_exporter": "python",
   "pygments_lexer": "ipython3",
   "version": "3.11.5"
  }
 },
 "nbformat": 4,
 "nbformat_minor": 2
}
