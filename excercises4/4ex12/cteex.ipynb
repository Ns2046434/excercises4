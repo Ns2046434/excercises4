{
 "cells": [
  {
   "cell_type": "markdown",
   "metadata": {},
   "source": [
    "Given: A positive integer k≤20\n",
    " and k\n",
    " simple directed graphs with positive integer edge weights and at most 103\n",
    " vertices in the edge list format.\n",
    "\n",
    "Return: For each graph, output the length of a shortest cycle going through the first specified edge if there is a cycle and \"-1\" otherwise"
   ]
  },
  {
   "cell_type": "code",
   "execution_count": 3,
   "metadata": {},
   "outputs": [
    {
     "name": "stdout",
     "output_type": "stream",
     "text": [
      "3181 -1 -1 3677 -1 3440 -1 3953 3700 5814 -1 -1 5968 2933 5180 -1 7748 -1 "
     ]
    }
   ],
   "source": [
    "import numpy as np\n",
    "\n",
    "graphs = [] \n",
    "vertices = [] \n",
    "edges = [] \n",
    "specedges = []\n",
    "with open(\"rosalind_cte.txt\", \"r\") as f:\n",
    "    k = int(f.readline().strip())\n",
    "    for line in f:\n",
    "        if len(line.strip().split(\" \"))==3:\n",
    "            vertice1, vertice2, weight = list(map(int, line.strip().split(\" \")))\n",
    "            graph[vertice1][vertice2] = weight\n",
    "        else:\n",
    "            vertice, edge = map(int, line.strip().split(\" \"))\n",
    "            graph = {v:{} for v in range(1, vertice+1)}\n",
    "            graphs.append(graph)\n",
    "            vertices.append(vertice)\n",
    "            edges.append(edge)\n",
    "            specedges.append(list(map(int, f.readline().strip().split(\" \"))))\n",
    "\n",
    "def BellmanFord(graph, vertice, source):\n",
    "    INF = float('inf') \n",
    "    distance = {i: INF for i in graph} \n",
    "    predecessor = {i: None for i in graph}\n",
    "    distance[source] = 0  \n",
    "    for i in range(vertice - 1):\n",
    "        for u in graph:\n",
    "            if distance[u] != INF:\n",
    "                for v in graph[u]:\n",
    "                    if distance[v] > distance[u] + graph[u][v]:\n",
    "                        distance[v] = distance[u] + graph[u][v]\n",
    "                        predecessor[v] = u\n",
    "\n",
    "    for u in graph:\n",
    "        if distance[u] != INF:\n",
    "            for v in graph[u]:\n",
    "                if distance[v] > distance[u] + graph[u][v]:\n",
    "                    print(\"with negative cycles\")\n",
    "    return distance, predecessor\n",
    "\n",
    "for n in range(k):\n",
    "    graph = graphs[n]\n",
    "    vertice = vertices[n]\n",
    "    specedge = specedges[n]\n",
    "    distance, predecessor = BellmanFord(graph, vertice, specedge[1])\n",
    "    if distance[specedge[0]] == float('inf'):\n",
    "        print(-1, end=\" \")\n",
    "    else:\n",
    "        print(distance[specedge[0]] + specedge[2], end=\" \")"
   ]
  }
 ],
 "metadata": {
  "kernelspec": {
   "display_name": "base",
   "language": "python",
   "name": "python3"
  },
  "language_info": {
   "codemirror_mode": {
    "name": "ipython",
    "version": 3
   },
   "file_extension": ".py",
   "mimetype": "text/x-python",
   "name": "python",
   "nbconvert_exporter": "python",
   "pygments_lexer": "ipython3",
   "version": "3.11.5"
  }
 },
 "nbformat": 4,
 "nbformat_minor": 2
}
