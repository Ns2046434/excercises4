{
 "cells": [
  {
   "cell_type": "markdown",
   "metadata": {},
   "source": [
    "Given: A positive integer n\n",
    " (n≤1000\n",
    ") and an adjacency list corresponding to a graph on n\n",
    " nodes that contains no cycles.\n",
    "\n",
    "Return: The minimum number of edges that can be added to the graph to produce a tree"
   ]
  },
  {
   "cell_type": "code",
   "execution_count": 2,
   "metadata": {},
   "outputs": [
    {
     "name": "stdout",
     "output_type": "stream",
     "text": [
      "76\n"
     ]
    }
   ],
   "source": [
    "with open(\"rosalind_tree.txt\", \"r\") as f:\n",
    "    n = int(f.readline())\n",
    "    adlist = [line.strip().split(\" \") for line in f]\n",
    "\n",
    "stree = [] \n",
    "nodes = set() \n",
    "for i, j in adlist:\n",
    "    if i in nodes or j in nodes:\n",
    "        for st in stree:\n",
    "            if i in st or j in st:\n",
    "                stree[stree.index(st)].append(i)\n",
    "                stree[stree.index(st)].append(j)\n",
    "                nodes.add(i), nodes.add(j)\n",
    "    else:\n",
    "        stree.append([i,j])\n",
    "        nodes.add(i), nodes.add(j)\n",
    "\n",
    "l = len(stree)\n",
    "for i in range(l):\n",
    "    for j in range(l):\n",
    "        if i==j:\n",
    "           break\n",
    "        if len(set(stree[i] + stree[j])) < len(stree[i]) + len(stree[j]):\n",
    "            stree[i] = list(set(stree[i] + stree[j]))\n",
    "            stree[j] = []\n",
    "stree = [i for i in stree if i]\n",
    "\n",
    "result = (n -len(nodes)) + len(stree) - 1\n",
    "print(result)"
   ]
  }
 ],
 "metadata": {
  "kernelspec": {
   "display_name": "Python 3",
   "language": "python",
   "name": "python3"
  },
  "language_info": {
   "codemirror_mode": {
    "name": "ipython",
    "version": 3
   },
   "file_extension": ".py",
   "mimetype": "text/x-python",
   "name": "python",
   "nbconvert_exporter": "python",
   "pygments_lexer": "ipython3",
   "version": "3.11.5"
  }
 },
 "nbformat": 4,
 "nbformat_minor": 2
}
