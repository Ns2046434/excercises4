{
 "cells": [
  {
   "cell_type": "markdown",
   "metadata": {},
   "source": [
    "Given: A simple directed graph with n≤103\n",
    " vertices in the edge list format.\n",
    "\n",
    "Return: An array D[1..n]\n",
    " where D[i]\n",
    " is the length of a shortest path from the vertex 1\n",
    " to the vertex i\n",
    " (D[1]=0\n",
    "). If i\n",
    " is not reachable from 1\n",
    " set D[i]\n",
    " to −1\n"
   ]
  },
  {
   "cell_type": "code",
   "execution_count": 6,
   "metadata": {},
   "outputs": [
    {
     "name": "stdout",
     "output_type": "stream",
     "text": [
      "0 6 8 3 -1 5 7 9 7 2 6 -1 7 8 8 8 8 6 6 4 4 2 6 6 7 7 9 6 6 7 9 8 5 6 6 6 4 7 8 -1 8 6 3 -1 6 6 6 5 7 7 6 1 -1 5 -1 4 6 7 6 7 5 6 5 6 5 3 8 7 6 7 7 8 -1 4 10 7 6 7 5 6 4 6 7 6 7 4 5 7 6 5 -1 5 6 7 6 4 6 7 6 7 7 8 6 7 7 4 5 8 7 7 4 10 7 6 8 2 3 4 7 8 6 5 7 -1 7 7 3 7 6 8 8 4 7 4 6 5 8 8 6 5 -1 7 7 6 6 7 5 6 6 7 4 5 6 7 5 5 7 3 6 7 7 8 9 7 2 5 9 5 5 3 5 7 5 4 6 -1 4 2 7 -1 5 6 5 7 7 5 -1 6 6 6 7 6 7 7 6 7 4 4 8 5 -1 4 8 5 7 6 8 7 5 6 4 6 5 9 5 5 6 7 7 3 9 4 2 8 -1 6 6 7 5 7 6 8 5 5 -1 4 6 7 9 8 6 4 9 6 7 6 8 7 6 5 7 6 7 6 6 8 4 6 6 8 7 -1 9 3 -1 7 7 5 5 6 7 7 7 7 -1 6 7 8 8 5 7 6 4 5 4 4 6 7 5 6 -1 5 8 8 5 6 4 5 5 6 6 4 7 6 -1 6 3 2 6 5 6 5 5 5 -1 6 8 4 6 6 6 6 7 6 7 -1 4 7 6 6 6 7 6 6 6 6 5 3 -1 7 7 6 6 5 7 -1 5 9 -1 6 3 6 8 9 5 7 7 6 7 8 7 8 -1 7 6 7 6 6 8 -1 7 6 7 6 6 7 4 6 8 9 5 -1 7 7 8 6 -1 6 8 6 6 7 7 7 7 9 6 7 5 6 8 7 7 -1 5 9 6 -1 7 -1 7 5 6 4 7 5 6 7 5 4 6 7 4 8 6 6 7 6 7 6 6 6 9 -1 5 6 6 6 6 7 6 7 9 6 5 8 6 6 6 5 6 6 6 6 7 7 -1 8 6 6 4 5 8 7 6 5 5 6 7 5 8 4 7 5 7 6 6 7 5 5 7 6 8 9 7 7 8 5 8 6 4 12 4 6 7 3 6 5 5 6 1 8 7 5 5 7 6 7 6 6 5 7 4 6 7 6 -1 6 5 6 6 8 7 7 5 7 -1 7 8 7 8 6 5 5 7 5 6 7 8 6 -1 5 7 7 9 5 7 6 6 7 7 8 8 6 4 7 6 8 11 6 6 8 6 6 6 2 6 7 2 -1 6 8 7 6 5 -1 6 7 6 5 6 7 8 6 7 5 6 6 5 -1 3 8 7 4 4 7 7 5 6 8 5 6 8 7 -1 3 4 5 6 -1 5 5 -1 6 6 8 6 5 9 6 -1 6 6 8 8 7 8 7 9 -1 -1 8 4 7 7 7 4 -1 6 5 3 8 7 6 6 7 8 6 7 7 -1 6 4 8 6 7 -1 5 7 6 6 5 7 3 5 8 8 8 5 6 6 -1 6 5 -1 5 6 6 7 8 5 7 6 7 7 6 6 6 6 3 -1 4 6 4 7 7 6 8 8 7 6 7 7 6 7 4 6 9 7 7 6 5 8 7 5 -1 3 6 4 5 8 4 5 5 7 7 6 7 8 8 -1 7 5 8 5 5 -1 6 -1 6 8 5 -1 7 7 7 4 5 1 -1 6 2 -1 6 4 4 5 6 6 5 9 6 7 6 5 7 8 6 -1 4 5 5 -1 4 -1 5 4 -1 8 6 5 7 6 6 5 3 7 4 8 6 7 6 7 8 5 6 8 7 6 5 8 6 8 6 5 4 7 -1 5 7 6 1 2 8 6 4 8 7 6 7 7 5 5 4 6 9 6 6 6 10 6 -1 7 7 7 4 6 8 4 5 7 -1 -1 6 6 6 5 7 7 7 5 7 -1 3 4 4 5 6 3 4 5 3 7 5 5 6 8 7 5 6 6 7 7 6 5 7 5 6 -1 7 6 8 7 6 4 6 6 7 5 6 7 7 7 5 6 5 6 6 5 5 6 6 5 7 6 6 -1 7 5 8 5 5 7 7 8 5 3 4 6 5 8 6 5 4 4 5 5 7 6 5 7 6 6 7 7 5 9 7 "
     ]
    }
   ],
   "source": [
    "with open(\"rosalind_bfs.txt\", \"r\") as f:\n",
    "    vert, edge = map(int, f.readline().strip().split(\" \"))\n",
    "    graph = {i+1:[] for i in range(vert)}\n",
    "    for line in f:\n",
    "        l = list(map(int, line.strip().split(\" \")))\n",
    "        graph[l[0]].append(l[1])\n",
    "    f.close()\n",
    "\n",
    "def BFS(start_vertice, vert, graph):\n",
    "    quene, order = [], []\n",
    "    dist = {i+1:0 for i in range(vert)} \n",
    "    quene.append(startvert)\n",
    "    order.append(startvert)\n",
    "    while quene:\n",
    "        v = quene.pop(0)\n",
    "        for n in graph[v]:\n",
    "            if n not in order:\n",
    "                dist[n] = dist[v] + 1\n",
    "                order.append(n)\n",
    "                quene.append(n)\n",
    "    for k in dist.keys():\n",
    "        if k not in order:\n",
    "            dist[k] = -1\n",
    "    return order, dist\n",
    "\n",
    "startvert = 1\n",
    "order, dist = BFS(startvert, vert, graph)\n",
    "for i in range(int(vert)):\n",
    "    print(dist[i+1], end = \" \")"
   ]
  }
 ],
 "metadata": {
  "kernelspec": {
   "display_name": "base",
   "language": "python",
   "name": "python3"
  },
  "language_info": {
   "codemirror_mode": {
    "name": "ipython",
    "version": 3
   },
   "file_extension": ".py",
   "mimetype": "text/x-python",
   "name": "python",
   "nbconvert_exporter": "python",
   "pygments_lexer": "ipython3",
   "version": "3.11.5"
  }
 },
 "nbformat": 4,
 "nbformat_minor": 2
}
