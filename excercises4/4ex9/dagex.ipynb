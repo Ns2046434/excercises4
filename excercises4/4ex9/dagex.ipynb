{
 "cells": [
  {
   "cell_type": "markdown",
   "metadata": {},
   "source": [
    "Given: A positive integer k≤20\n",
    " and k\n",
    " simple directed graphs in the edge list format with at most 103\n",
    " vertices and 3⋅103\n",
    " edges each.\n",
    "\n",
    "Return: For each graph, output \"1\" if the graph is acyclic and \"-1\" otherwise"
   ]
  },
  {
   "cell_type": "code",
   "execution_count": 10,
   "metadata": {},
   "outputs": [
    {
     "name": "stdout",
     "output_type": "stream",
     "text": [
      "-1 -1 -1 1 -1 -1 -1 1 1 1 -1 1 -1 1 -1 -1 1 1 "
     ]
    }
   ],
   "source": [
    "graphs = []\n",
    "with open(\"rosalind_dag.txt\", \"r\") as f:\n",
    "    graph_count = int(f.readline().strip())\n",
    "    for _ in range(graph_count):\n",
    "        line = f.readline().strip()\n",
    "        while not line: \n",
    "            line = f.readline().strip()\n",
    "        vertice, edge = map(int, line.split())\n",
    "        graph = {i + 1: [] for i in range(vertice)} \n",
    "        for _ in range(edge):\n",
    "            line = f.readline().strip()\n",
    "            while not line:\n",
    "                line = f.readline().strip()\n",
    "            u, v = map(int, line.split())\n",
    "            graph[u].append(v)\n",
    "        graphs.append((graph, vertice))\n",
    "\n",
    "def dfs(v, graph, visited, rec_stack):\n",
    "    visited[v] = True\n",
    "    rec_stack[v] = True\n",
    "    for neighbor in graph[v]:\n",
    "        if not visited[neighbor]:\n",
    "            if dfs(neighbor, graph, visited, rec_stack):\n",
    "                return True\n",
    "        elif rec_stack[neighbor]:\n",
    "            return True\n",
    "    rec_stack[v] = False \n",
    "    return False\n",
    "\n",
    "def isDAG(graph, vertice):\n",
    "    visited = [False] * (vertice + 1)\n",
    "    rec_stack = [False] * (vertice + 1)\n",
    "    for v in range(1, vertice + 1):\n",
    "        if not visited[v]:  \n",
    "            if dfs(v, graph, visited, rec_stack):\n",
    "                return -1  \n",
    "    return 1 \n",
    "\n",
    "for graph, vertice in graphs:\n",
    "    print(isDAG(graph, vertice), end=\" \")\n",
    "\n"
   ]
  }
 ],
 "metadata": {
  "kernelspec": {
   "display_name": "base",
   "language": "python",
   "name": "python3"
  },
  "language_info": {
   "codemirror_mode": {
    "name": "ipython",
    "version": 3
   },
   "file_extension": ".py",
   "mimetype": "text/x-python",
   "name": "python",
   "nbconvert_exporter": "python",
   "pygments_lexer": "ipython3",
   "version": "3.11.5"
  }
 },
 "nbformat": 4,
 "nbformat_minor": 2
}
