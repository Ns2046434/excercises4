{
 "cells": [
  {
   "cell_type": "markdown",
   "metadata": {},
   "source": [
    "Given: A positive integer k≤20\n",
    " and k\n",
    " simple directed graphs with integer edge weights from −103\n",
    " to 103\n",
    " and n≤103\n",
    " vertices in the edge list format.\n",
    "\n",
    "Return: For each graph, output \"1\" if it contains a negative weight cycle and \"-1\" otherwise"
   ]
  },
  {
   "cell_type": "code",
   "execution_count": 3,
   "metadata": {},
   "outputs": [
    {
     "name": "stdout",
     "output_type": "stream",
     "text": [
      "1 1 1 1 1 1 1 1 -1 1 1 1 1 1 1 1 1 1 1 "
     ]
    }
   ],
   "source": [
    "graphs = []\n",
    "vertices = []\n",
    "edges = []\n",
    "negative_vertices=[]\n",
    "with open(\"rosalind_nwc.txt\", \"r\") as f:\n",
    "    k = int(f.readline().strip())\n",
    "    for line in f:\n",
    "        if len(line.strip().split(\" \"))==3:\n",
    "            vertice1, vertice2, weight = map(int, line.strip().split(\" \"))\n",
    "            graph[vertice1][vertice2] = weight\n",
    "            if weight < 0:\n",
    "                negative_vertice.append(vertice1)\n",
    "        else:\n",
    "            vertice, edge = map(int, line.strip().split(\" \"))\n",
    "            graph = {v:{} for v in range(1, vertice+1)}\n",
    "            graphs.append(graph)\n",
    "            vertices.append(vertice)\n",
    "            edges.append(edge)\n",
    "            negative_vertice = []\n",
    "            negative_vertices.append(negative_vertice)\n",
    "\n",
    "def BellmanFord(graph, vertice, source):\n",
    "    INF = float('inf') \n",
    "    distance = {i: INF for i in graph} \n",
    "    predecessor = {i: None for i in graph}\n",
    "    distance[source] = 0 \n",
    "    for i in range(vertice - 1):\n",
    "        for u in graph:\n",
    "            if distance[u] != INF:\n",
    "                for v in graph[u]:\n",
    "                    if distance[v] > distance[u] + graph[u][v]:\n",
    "                        distance[v] = distance[u] + graph[u][v]\n",
    "                        predecessor[v] = u\n",
    "\n",
    "    for u in graph:\n",
    "        if distance[u] != INF:\n",
    "            for v in graph[u]:\n",
    "                if distance[v] > distance[u] + graph[u][v]:\n",
    "                    return distance, True\n",
    "    return distance, False\n",
    "\n",
    "for i in range(k):\n",
    "    graph = graphs[i] \n",
    "    vertice = vertices[i] \n",
    "    negative_vertice = negative_vertices[i]\n",
    "    flag = False\n",
    "    for ve in negative_vertice: \n",
    "        distance, b = BellmanFord(graph, vertice, ve)\n",
    "        if b:\n",
    "            print(1, end=\" \")\n",
    "            flag = True\n",
    "            break\n",
    "    if not flag:\n",
    "        print(-1, end=\" \") "
   ]
  }
 ],
 "metadata": {
  "kernelspec": {
   "display_name": "base",
   "language": "python",
   "name": "python3"
  },
  "language_info": {
   "codemirror_mode": {
    "name": "ipython",
    "version": 3
   },
   "file_extension": ".py",
   "mimetype": "text/x-python",
   "name": "python",
   "nbconvert_exporter": "python",
   "pygments_lexer": "ipython3",
   "version": "3.11.5"
  }
 },
 "nbformat": 4,
 "nbformat_minor": 2
}
