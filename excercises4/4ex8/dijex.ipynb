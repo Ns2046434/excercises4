{
 "cells": [
  {
   "cell_type": "markdown",
   "metadata": {},
   "source": [
    "Given: A simple directed graph with positive edge weights from 1\n",
    " to 103\n",
    " and n≤103\n",
    " vertices in the edge list format.\n",
    "\n",
    "Return: An array D[1..n]\n",
    " where D[i]\n",
    " is the length of a shortest path from the vertex 1\n",
    " to the vertex i\n",
    " (D[1]=0\n",
    "). If i\n",
    " is not reachable from 1\n",
    " set D[i]\n",
    " to −1\n"
   ]
  },
  {
   "cell_type": "code",
   "execution_count": null,
   "metadata": {},
   "outputs": [],
   "source": []
  }
 ],
 "metadata": {
  "kernelspec": {
   "display_name": "Python 3",
   "language": "python",
   "name": "python3"
  },
  "language_info": {
   "name": "python",
   "version": "3.11.5"
  }
 },
 "nbformat": 4,
 "nbformat_minor": 2
}
