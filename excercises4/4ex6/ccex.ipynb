{
 "cells": [
  {
   "cell_type": "markdown",
   "metadata": {},
   "source": [
    "Given: A simple graph with n≤103\n",
    " vertices in the edge list format.\n",
    "\n",
    "Return: The number of connected components in the graph"
   ]
  },
  {
   "cell_type": "code",
   "execution_count": 4,
   "metadata": {},
   "outputs": [
    {
     "name": "stdout",
     "output_type": "stream",
     "text": [
      "138\n"
     ]
    }
   ],
   "source": [
    "with open(\"rosalind_cc.txt\", \"r\") as f:\n",
    "    vertice, edge = map(int, f.readline().strip().split(\" \"))\n",
    "    graph = {i+1:[] for i in range(vertice)}\n",
    "    for line in f:\n",
    "        l = list(map(int, line.strip().split(\" \")))\n",
    "        graph[l[0]].append(l[1])\n",
    "        graph[l[1]].append(l[0])\n",
    "f.close()\n",
    "\n",
    "def dfs(cc, v, visited):\n",
    "    visited[v] = True\n",
    "    cc.append(v)\n",
    "    for i in graph[v]:\n",
    "        if visited[i] == False:\n",
    "            cc = dfs(cc, i, visited)\n",
    "    return cc\n",
    "\n",
    "visited = [False for i in range(vertice+1)]\n",
    "c_c = [] \n",
    "for v in range(1, int(vertice)+1):\n",
    "    if visited[v] == False:\n",
    "        cc = []\n",
    "        c_c.append(dfs(cc, v, visited))\n",
    "\n",
    "print(\"{}\".format(len(c_c)))\n"
   ]
  }
 ],
 "metadata": {
  "kernelspec": {
   "display_name": "Python 3",
   "language": "python",
   "name": "python3"
  },
  "language_info": {
   "codemirror_mode": {
    "name": "ipython",
    "version": 3
   },
   "file_extension": ".py",
   "mimetype": "text/x-python",
   "name": "python",
   "nbconvert_exporter": "python",
   "pygments_lexer": "ipython3",
   "version": "3.11.5"
  }
 },
 "nbformat": 4,
 "nbformat_minor": 2
}
